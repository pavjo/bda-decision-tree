{
 "cells": [
  {
   "cell_type": "code",
   "execution_count": 2,
   "metadata": {},
   "outputs": [],
   "source": [
    "import pandas as pd\n",
    "import numpy as np\n",
    "data = pd.read_csv(\"Abominable_Data_HW_LABELED_TRAINING_DATA__v772_2231.csv\")\n",
    "\n",
    "# quantising the data\n",
    "def quant(v):\n",
    "    return round(v*2)/2\n",
    "\n",
    "data[\"Age\"] = data[\"Age\"].round()\n",
    "data[\"Ht\"] = data[\"Ht\"].round()\n",
    "data[\"TailLn\"] = data[\"TailLn\"].apply(quant)\n",
    "data[\"HairLn\"] = data[\"HairLn\"].apply(quant)\n",
    "data[\"BangLn\"] = data[\"BangLn\"].apply(quant)\n",
    "data[\"Reach\"] = data[\"Reach\"].apply(quant)\n",
    "\n",
    "# create new features\n",
    "data[\"Shagginess\"] = data[\"HairLn\"] - data[\"BangLn\"]\n",
    "data[\"ApeFactor\"] = data[\"Reach\"] - data[\"Ht\"]\n",
    "\n",
    "\n",
    "### create a test suite of length 8 with attribute Age. -- Test Suite B\n",
    "\n",
    "# greater than 100 bhuttan and less than assam\n",
    "x = data[(data[\"Ht\"] <= 100) & (data[\"ClassID\"] == -1 )].head(4)\n",
    "y = data[(data[\"Age\"] > 100) & (data[\"ClassID\"] == 1 )].head(4)\n",
    "z = pd.concat([x,y])\n",
    "z.to_csv(\"Test_Suite_A_height.csv\", index = False)\n",
    "\n",
    "\n",
    "# greater than 30 belong to assam and less than 30 belong to 1\n",
    "x = data[(data[\"Age\"] <= 30) & (data[\"ClassID\"] == 1 )].head(4)\n",
    "y = data[(data[\"Age\"] > 30) & (data[\"ClassID\"] == -1 )].head(4)\n",
    "z = pd.concat([x,y])\n",
    "z.to_csv(\"Test_Suite_B_age.csv\", index = False)\n",
    "\n",
    "# create a test suite of length 8 with attribute tail length. -- Test Suite C \n",
    "x = data[(data[\"TailLn\"] <= 10) & (data[\"ClassID\"] == 1 )].head(4)\n",
    "y = data[(data[\"TailLn\"] > 10) & (data[\"ClassID\"] == -1 )].head(4)\n",
    "z = pd.concat([x,y])\n",
    "z.to_csv(\"Test_Suite_C_tail.csv\", index = False)"
   ]
  },
  {
   "cell_type": "code",
   "execution_count": null,
   "metadata": {},
   "outputs": [],
   "source": []
  }
 ],
 "metadata": {
  "kernelspec": {
   "display_name": "base",
   "language": "python",
   "name": "python3"
  },
  "language_info": {
   "codemirror_mode": {
    "name": "ipython",
    "version": 3
   },
   "file_extension": ".py",
   "mimetype": "text/x-python",
   "name": "python",
   "nbconvert_exporter": "python",
   "pygments_lexer": "ipython3",
   "version": "3.11.4"
  }
 },
 "nbformat": 4,
 "nbformat_minor": 2
}
